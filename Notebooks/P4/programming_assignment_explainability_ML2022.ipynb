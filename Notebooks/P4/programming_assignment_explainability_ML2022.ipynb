{
  "cells": [
    {
      "cell_type": "markdown",
      "metadata": {
        "id": "OMSxpJAkqYzk"
      },
      "source": [
        "# Assignment 4: Explainability\n",
        "\n",
        "*Part of the course:\n",
        "Machine Learning (code: INFOB3ML), fall 2022, Utrecht University*\n",
        "\n",
        "Total points: 10 (100%)\n",
        "\n",
        "Deadline: Friday 4 November, 23:59\n",
        "\n",
        "**Write your names and student numbers here: ___**\n",
        "\n",
        "Submit one ipynb file per pair.\n",
        "\n",
        "**Before you submit, click Kernel > Restart & Run All to make sure you submit a working version of your code!**\n",
        "\n"
      ]
    },
    {
      "cell_type": "markdown",
      "metadata": {
        "id": "moyaViIx8WzS"
      },
      "source": [
        "## Installation\n",
        "\n",
        "For this assignment, we are going to use the following Python packages:\n",
        "\n",
        "matplotlib, pandas, statsmodels, interpret, scikit-learn, openpyxl and graphviz"
      ]
    },
    {
      "cell_type": "code",
      "execution_count": 1,
      "metadata": {},
      "outputs": [
        {
          "name": "stderr",
          "output_type": "stream",
          "text": [
            "ERROR: Could not find a version that satisfies the requirement python-graphviz (from versions: none)\n",
            "ERROR: No matching distribution found for python-graphviz\n"
          ]
        }
      ],
      "source": [
        "!pip install python-graphviz"
      ]
    },
    {
      "cell_type": "code",
      "execution_count": 1,
      "metadata": {
        "id": "6EaC6P7RqXOh"
      },
      "outputs": [
        {
          "name": "stderr",
          "output_type": "stream",
          "text": [
            "'conda' is not recognized as an internal or external command,\n",
            "operable program or batch file.\n"
          ]
        },
        {
          "name": "stdout",
          "output_type": "stream",
          "text": [
            "Requirement already satisfied: matplotlib in c:\\users\\menee\\appdata\\local\\packages\\pythonsoftwarefoundation.python.3.10_qbz5n2kfra8p0\\localcache\\local-packages\\python310\\site-packages (3.5.2)\n",
            "Requirement already satisfied: pandas in c:\\users\\menee\\appdata\\local\\packages\\pythonsoftwarefoundation.python.3.10_qbz5n2kfra8p0\\localcache\\local-packages\\python310\\site-packages (1.4.2)\n",
            "Collecting statsmodels\n",
            "  Downloading statsmodels-0.13.2-cp310-cp310-win_amd64.whl (9.1 MB)\n",
            "     ---------------------------------------- 9.1/9.1 MB 20.9 MB/s eta 0:00:00\n",
            "Collecting interpret\n",
            "  Downloading interpret-0.2.7-py3-none-any.whl (1.4 kB)\n",
            "Requirement already satisfied: sklearn in c:\\users\\menee\\appdata\\local\\packages\\pythonsoftwarefoundation.python.3.10_qbz5n2kfra8p0\\localcache\\local-packages\\python310\\site-packages (0.0)\n",
            "Collecting openpyxl\n",
            "  Downloading openpyxl-3.0.10-py2.py3-none-any.whl (242 kB)\n",
            "     ------------------------------------- 242.1/242.1 kB 14.5 MB/s eta 0:00:00\n",
            "Requirement already satisfied: pyparsing>=2.2.1 in c:\\users\\menee\\appdata\\local\\packages\\pythonsoftwarefoundation.python.3.10_qbz5n2kfra8p0\\localcache\\local-packages\\python310\\site-packages (from matplotlib) (3.0.9)\n",
            "Requirement already satisfied: numpy>=1.17 in c:\\users\\menee\\appdata\\local\\packages\\pythonsoftwarefoundation.python.3.10_qbz5n2kfra8p0\\localcache\\local-packages\\python310\\site-packages (from matplotlib) (1.23.4)\n",
            "Requirement already satisfied: cycler>=0.10 in c:\\users\\menee\\appdata\\local\\packages\\pythonsoftwarefoundation.python.3.10_qbz5n2kfra8p0\\localcache\\local-packages\\python310\\site-packages (from matplotlib) (0.11.0)\n",
            "Requirement already satisfied: pillow>=6.2.0 in c:\\users\\menee\\appdata\\local\\packages\\pythonsoftwarefoundation.python.3.10_qbz5n2kfra8p0\\localcache\\local-packages\\python310\\site-packages (from matplotlib) (9.1.1)\n",
            "Requirement already satisfied: kiwisolver>=1.0.1 in c:\\users\\menee\\appdata\\local\\packages\\pythonsoftwarefoundation.python.3.10_qbz5n2kfra8p0\\localcache\\local-packages\\python310\\site-packages (from matplotlib) (1.4.3)\n",
            "Requirement already satisfied: python-dateutil>=2.7 in c:\\users\\menee\\appdata\\local\\packages\\pythonsoftwarefoundation.python.3.10_qbz5n2kfra8p0\\localcache\\local-packages\\python310\\site-packages (from matplotlib) (2.8.2)\n",
            "Requirement already satisfied: fonttools>=4.22.0 in c:\\users\\menee\\appdata\\local\\packages\\pythonsoftwarefoundation.python.3.10_qbz5n2kfra8p0\\localcache\\local-packages\\python310\\site-packages (from matplotlib) (4.33.3)\n",
            "Requirement already satisfied: packaging>=20.0 in c:\\users\\menee\\appdata\\local\\packages\\pythonsoftwarefoundation.python.3.10_qbz5n2kfra8p0\\localcache\\local-packages\\python310\\site-packages (from matplotlib) (21.3)\n",
            "Requirement already satisfied: pytz>=2020.1 in c:\\users\\menee\\appdata\\local\\packages\\pythonsoftwarefoundation.python.3.10_qbz5n2kfra8p0\\localcache\\local-packages\\python310\\site-packages (from pandas) (2022.1)\n",
            "Collecting patsy>=0.5.2\n",
            "  Downloading patsy-0.5.3-py2.py3-none-any.whl (233 kB)\n",
            "     ---------------------------------------- 233.8/233.8 kB ? eta 0:00:00\n",
            "Requirement already satisfied: scipy>=1.3 in c:\\users\\menee\\appdata\\local\\packages\\pythonsoftwarefoundation.python.3.10_qbz5n2kfra8p0\\localcache\\local-packages\\python310\\site-packages (from statsmodels) (1.8.1)\n",
            "Collecting interpret-core[dash,debug,decisiontree,ebm,lime,linear,notebook,plotly,required,sensitivity,shap,skoperules,treeinterpreter]>=0.2.7\n",
            "  Downloading interpret_core-0.2.7-py3-none-any.whl (6.6 MB)\n",
            "     ---------------------------------------- 6.6/6.6 MB 22.3 MB/s eta 0:00:00\n",
            "Requirement already satisfied: scikit-learn in c:\\users\\menee\\appdata\\local\\packages\\pythonsoftwarefoundation.python.3.10_qbz5n2kfra8p0\\localcache\\local-packages\\python310\\site-packages (from sklearn) (1.1.1)\n",
            "Collecting et-xmlfile\n",
            "  Downloading et_xmlfile-1.1.0-py3-none-any.whl (4.7 kB)\n",
            "Collecting SALib>=1.3.3\n",
            "  Downloading salib-1.4.6.1-py3-none-any.whl (758 kB)\n",
            "     ------------------------------------- 758.1/758.1 kB 24.1 MB/s eta 0:00:00\n",
            "Collecting lime>=0.1.1.33\n",
            "  Downloading lime-0.2.0.1.tar.gz (275 kB)\n",
            "     ------------------------------------- 275.7/275.7 kB 17.7 MB/s eta 0:00:00\n",
            "  Preparing metadata (setup.py): started\n",
            "  Preparing metadata (setup.py): finished with status 'done'\n",
            "Requirement already satisfied: ipython>=7.4.0 in c:\\users\\menee\\appdata\\local\\packages\\pythonsoftwarefoundation.python.3.10_qbz5n2kfra8p0\\localcache\\local-packages\\python310\\site-packages (from interpret-core[dash,debug,decisiontree,ebm,lime,linear,notebook,plotly,required,sensitivity,shap,skoperules,treeinterpreter]>=0.2.7->interpret) (8.5.0)\n",
            "Requirement already satisfied: ipykernel>=5.1.0 in c:\\users\\menee\\appdata\\local\\packages\\pythonsoftwarefoundation.python.3.10_qbz5n2kfra8p0\\localcache\\local-packages\\python310\\site-packages (from interpret-core[dash,debug,decisiontree,ebm,lime,linear,notebook,plotly,required,sensitivity,shap,skoperules,treeinterpreter]>=0.2.7->interpret) (6.16.0)\n",
            "Collecting dash-table>=4.1.0\n",
            "  Downloading dash_table-5.0.0-py3-none-any.whl (3.9 kB)\n",
            "Collecting dash-cytoscape>=0.1.1\n",
            "  Downloading dash_cytoscape-0.3.0-py3-none-any.whl (3.6 MB)\n",
            "     ---------------------------------------- 3.6/3.6 MB 23.1 MB/s eta 0:00:00\n",
            "Requirement already satisfied: requests>=2.19.0 in c:\\users\\menee\\appdata\\local\\packages\\pythonsoftwarefoundation.python.3.10_qbz5n2kfra8p0\\localcache\\local-packages\\python310\\site-packages (from interpret-core[dash,debug,decisiontree,ebm,lime,linear,notebook,plotly,required,sensitivity,shap,skoperules,treeinterpreter]>=0.2.7->interpret) (2.25.1)\n",
            "Collecting dash>=1.0.0\n",
            "  Downloading dash-2.6.2-py3-none-any.whl (9.8 MB)\n",
            "     ---------------------------------------- 9.8/9.8 MB 23.3 MB/s eta 0:00:00\n",
            "Collecting gevent>=1.3.6\n",
            "  Downloading gevent-22.10.1-cp310-cp310-win_amd64.whl (1.5 MB)\n",
            "     ---------------------------------------- 1.5/1.5 MB 23.6 MB/s eta 0:00:00\n",
            "Requirement already satisfied: psutil>=5.6.2 in c:\\users\\menee\\appdata\\local\\packages\\pythonsoftwarefoundation.python.3.10_qbz5n2kfra8p0\\localcache\\local-packages\\python310\\site-packages (from interpret-core[dash,debug,decisiontree,ebm,lime,linear,notebook,plotly,required,sensitivity,shap,skoperules,treeinterpreter]>=0.2.7->interpret) (5.9.2)\n",
            "Requirement already satisfied: joblib>=0.11 in c:\\users\\menee\\appdata\\local\\packages\\pythonsoftwarefoundation.python.3.10_qbz5n2kfra8p0\\localcache\\local-packages\\python310\\site-packages (from interpret-core[dash,debug,decisiontree,ebm,lime,linear,notebook,plotly,required,sensitivity,shap,skoperules,treeinterpreter]>=0.2.7->interpret) (1.1.0)\n",
            "Collecting plotly>=3.8.1\n",
            "  Downloading plotly-5.11.0-py2.py3-none-any.whl (15.3 MB)\n",
            "     --------------------------------------- 15.3/15.3 MB 23.4 MB/s eta 0:00:00\n",
            "Collecting shap>=0.28.5\n",
            "  Downloading shap-0.41.0-cp310-cp310-win_amd64.whl (435 kB)\n",
            "     ------------------------------------- 435.6/435.6 kB 28.4 MB/s eta 0:00:00\n",
            "Collecting dill>=0.2.5\n",
            "  Downloading dill-0.3.6-py3-none-any.whl (110 kB)\n",
            "     ---------------------------------------- 110.5/110.5 kB ? eta 0:00:00\n",
            "Collecting skope-rules>=1.0.1\n",
            "  Downloading skope_rules-1.0.1-py3-none-any.whl (14 kB)\n",
            "Collecting treeinterpreter>=0.2.2\n",
            "  Downloading treeinterpreter-0.2.3-py2.py3-none-any.whl (6.0 kB)\n",
            "Requirement already satisfied: six in c:\\users\\menee\\appdata\\local\\packages\\pythonsoftwarefoundation.python.3.10_qbz5n2kfra8p0\\localcache\\local-packages\\python310\\site-packages (from patsy>=0.5.2->statsmodels) (1.16.0)\n",
            "Requirement already satisfied: threadpoolctl>=2.0.0 in c:\\users\\menee\\appdata\\local\\packages\\pythonsoftwarefoundation.python.3.10_qbz5n2kfra8p0\\localcache\\local-packages\\python310\\site-packages (from scikit-learn->sklearn) (3.1.0)\n",
            "Collecting dash-core-components==2.0.0\n",
            "  Downloading dash_core_components-2.0.0-py3-none-any.whl (3.8 kB)\n",
            "Collecting dash-html-components==2.0.0\n",
            "  Downloading dash_html_components-2.0.0-py3-none-any.whl (4.1 kB)\n",
            "Collecting flask-compress\n",
            "  Downloading Flask_Compress-1.13-py3-none-any.whl (7.9 kB)\n",
            "Requirement already satisfied: Flask>=1.0.4 in c:\\users\\menee\\appdata\\local\\packages\\pythonsoftwarefoundation.python.3.10_qbz5n2kfra8p0\\localcache\\local-packages\\python310\\site-packages (from dash>=1.0.0->interpret-core[dash,debug,decisiontree,ebm,lime,linear,notebook,plotly,required,sensitivity,shap,skoperules,treeinterpreter]>=0.2.7->interpret) (2.1.3)\n",
            "Requirement already satisfied: greenlet<2.0,>=1.1.3 in c:\\users\\menee\\appdata\\local\\packages\\pythonsoftwarefoundation.python.3.10_qbz5n2kfra8p0\\localcache\\local-packages\\python310\\site-packages (from gevent>=1.3.6->interpret-core[dash,debug,decisiontree,ebm,lime,linear,notebook,plotly,required,sensitivity,shap,skoperules,treeinterpreter]>=0.2.7->interpret) (1.1.3.post0)\n",
            "Requirement already satisfied: cffi>=1.12.2 in c:\\users\\menee\\appdata\\local\\packages\\pythonsoftwarefoundation.python.3.10_qbz5n2kfra8p0\\localcache\\local-packages\\python310\\site-packages (from gevent>=1.3.6->interpret-core[dash,debug,decisiontree,ebm,lime,linear,notebook,plotly,required,sensitivity,shap,skoperules,treeinterpreter]>=0.2.7->interpret) (1.15.1)\n",
            "Requirement already satisfied: setuptools in c:\\program files\\windowsapps\\pythonsoftwarefoundation.python.3.10_3.10.2288.0_x64__qbz5n2kfra8p0\\lib\\site-packages (from gevent>=1.3.6->interpret-core[dash,debug,decisiontree,ebm,lime,linear,notebook,plotly,required,sensitivity,shap,skoperules,treeinterpreter]>=0.2.7->interpret) (63.2.0)\n",
            "Collecting zope.interface\n",
            "  Downloading zope.interface-5.5.0-cp310-cp310-win_amd64.whl (211 kB)\n",
            "     -------------------------------------- 211.6/211.6 kB 6.5 MB/s eta 0:00:00\n",
            "Collecting zope.event\n",
            "  Downloading zope.event-4.5.0-py2.py3-none-any.whl (6.8 kB)\n",
            "Requirement already satisfied: matplotlib-inline>=0.1 in c:\\users\\menee\\appdata\\local\\packages\\pythonsoftwarefoundation.python.3.10_qbz5n2kfra8p0\\localcache\\local-packages\\python310\\site-packages (from ipykernel>=5.1.0->interpret-core[dash,debug,decisiontree,ebm,lime,linear,notebook,plotly,required,sensitivity,shap,skoperules,treeinterpreter]>=0.2.7->interpret) (0.1.6)\n",
            "Requirement already satisfied: jupyter-client>=6.1.12 in c:\\users\\menee\\appdata\\local\\packages\\pythonsoftwarefoundation.python.3.10_qbz5n2kfra8p0\\localcache\\local-packages\\python310\\site-packages (from ipykernel>=5.1.0->interpret-core[dash,debug,decisiontree,ebm,lime,linear,notebook,plotly,required,sensitivity,shap,skoperules,treeinterpreter]>=0.2.7->interpret) (7.3.5)\n",
            "Requirement already satisfied: traitlets>=5.1.0 in c:\\users\\menee\\appdata\\local\\packages\\pythonsoftwarefoundation.python.3.10_qbz5n2kfra8p0\\localcache\\local-packages\\python310\\site-packages (from ipykernel>=5.1.0->interpret-core[dash,debug,decisiontree,ebm,lime,linear,notebook,plotly,required,sensitivity,shap,skoperules,treeinterpreter]>=0.2.7->interpret) (5.4.0)\n",
            "Requirement already satisfied: tornado>=6.1 in c:\\users\\menee\\appdata\\local\\packages\\pythonsoftwarefoundation.python.3.10_qbz5n2kfra8p0\\localcache\\local-packages\\python310\\site-packages (from ipykernel>=5.1.0->interpret-core[dash,debug,decisiontree,ebm,lime,linear,notebook,plotly,required,sensitivity,shap,skoperules,treeinterpreter]>=0.2.7->interpret) (6.2)\n",
            "Requirement already satisfied: nest-asyncio in c:\\users\\menee\\appdata\\local\\packages\\pythonsoftwarefoundation.python.3.10_qbz5n2kfra8p0\\localcache\\local-packages\\python310\\site-packages (from ipykernel>=5.1.0->interpret-core[dash,debug,decisiontree,ebm,lime,linear,notebook,plotly,required,sensitivity,shap,skoperules,treeinterpreter]>=0.2.7->interpret) (1.5.6)\n",
            "Requirement already satisfied: debugpy>=1.0 in c:\\users\\menee\\appdata\\local\\packages\\pythonsoftwarefoundation.python.3.10_qbz5n2kfra8p0\\localcache\\local-packages\\python310\\site-packages (from ipykernel>=5.1.0->interpret-core[dash,debug,decisiontree,ebm,lime,linear,notebook,plotly,required,sensitivity,shap,skoperules,treeinterpreter]>=0.2.7->interpret) (1.6.3)\n",
            "Requirement already satisfied: pyzmq>=17 in c:\\users\\menee\\appdata\\local\\packages\\pythonsoftwarefoundation.python.3.10_qbz5n2kfra8p0\\localcache\\local-packages\\python310\\site-packages (from ipykernel>=5.1.0->interpret-core[dash,debug,decisiontree,ebm,lime,linear,notebook,plotly,required,sensitivity,shap,skoperules,treeinterpreter]>=0.2.7->interpret) (24.0.1)\n",
            "Requirement already satisfied: jedi>=0.16 in c:\\users\\menee\\appdata\\local\\packages\\pythonsoftwarefoundation.python.3.10_qbz5n2kfra8p0\\localcache\\local-packages\\python310\\site-packages (from ipython>=7.4.0->interpret-core[dash,debug,decisiontree,ebm,lime,linear,notebook,plotly,required,sensitivity,shap,skoperules,treeinterpreter]>=0.2.7->interpret) (0.18.1)\n",
            "Requirement already satisfied: colorama in c:\\users\\menee\\appdata\\local\\packages\\pythonsoftwarefoundation.python.3.10_qbz5n2kfra8p0\\localcache\\local-packages\\python310\\site-packages (from ipython>=7.4.0->interpret-core[dash,debug,decisiontree,ebm,lime,linear,notebook,plotly,required,sensitivity,shap,skoperules,treeinterpreter]>=0.2.7->interpret) (0.4.4)\n",
            "Requirement already satisfied: backcall in c:\\users\\menee\\appdata\\local\\packages\\pythonsoftwarefoundation.python.3.10_qbz5n2kfra8p0\\localcache\\local-packages\\python310\\site-packages (from ipython>=7.4.0->interpret-core[dash,debug,decisiontree,ebm,lime,linear,notebook,plotly,required,sensitivity,shap,skoperules,treeinterpreter]>=0.2.7->interpret) (0.2.0)\n",
            "Requirement already satisfied: pygments>=2.4.0 in c:\\users\\menee\\appdata\\local\\packages\\pythonsoftwarefoundation.python.3.10_qbz5n2kfra8p0\\localcache\\local-packages\\python310\\site-packages (from ipython>=7.4.0->interpret-core[dash,debug,decisiontree,ebm,lime,linear,notebook,plotly,required,sensitivity,shap,skoperules,treeinterpreter]>=0.2.7->interpret) (2.13.0)\n",
            "Requirement already satisfied: decorator in c:\\users\\menee\\appdata\\local\\packages\\pythonsoftwarefoundation.python.3.10_qbz5n2kfra8p0\\localcache\\local-packages\\python310\\site-packages (from ipython>=7.4.0->interpret-core[dash,debug,decisiontree,ebm,lime,linear,notebook,plotly,required,sensitivity,shap,skoperules,treeinterpreter]>=0.2.7->interpret) (5.1.1)\n",
            "Requirement already satisfied: stack-data in c:\\users\\menee\\appdata\\local\\packages\\pythonsoftwarefoundation.python.3.10_qbz5n2kfra8p0\\localcache\\local-packages\\python310\\site-packages (from ipython>=7.4.0->interpret-core[dash,debug,decisiontree,ebm,lime,linear,notebook,plotly,required,sensitivity,shap,skoperules,treeinterpreter]>=0.2.7->interpret) (0.5.1)\n",
            "Requirement already satisfied: prompt-toolkit<3.1.0,>3.0.1 in c:\\users\\menee\\appdata\\local\\packages\\pythonsoftwarefoundation.python.3.10_qbz5n2kfra8p0\\localcache\\local-packages\\python310\\site-packages (from ipython>=7.4.0->interpret-core[dash,debug,decisiontree,ebm,lime,linear,notebook,plotly,required,sensitivity,shap,skoperules,treeinterpreter]>=0.2.7->interpret) (3.0.31)\n",
            "Requirement already satisfied: pickleshare in c:\\users\\menee\\appdata\\local\\packages\\pythonsoftwarefoundation.python.3.10_qbz5n2kfra8p0\\localcache\\local-packages\\python310\\site-packages (from ipython>=7.4.0->interpret-core[dash,debug,decisiontree,ebm,lime,linear,notebook,plotly,required,sensitivity,shap,skoperules,treeinterpreter]>=0.2.7->interpret) (0.7.5)\n",
            "Requirement already satisfied: tqdm in c:\\users\\menee\\appdata\\local\\packages\\pythonsoftwarefoundation.python.3.10_qbz5n2kfra8p0\\localcache\\local-packages\\python310\\site-packages (from lime>=0.1.1.33->interpret-core[dash,debug,decisiontree,ebm,lime,linear,notebook,plotly,required,sensitivity,shap,skoperules,treeinterpreter]>=0.2.7->interpret) (4.64.0)\n",
            "Requirement already satisfied: scikit-image>=0.12 in c:\\users\\menee\\appdata\\local\\packages\\pythonsoftwarefoundation.python.3.10_qbz5n2kfra8p0\\localcache\\local-packages\\python310\\site-packages (from lime>=0.1.1.33->interpret-core[dash,debug,decisiontree,ebm,lime,linear,notebook,plotly,required,sensitivity,shap,skoperules,treeinterpreter]>=0.2.7->interpret) (0.19.3)\n",
            "Collecting tenacity>=6.2.0\n",
            "  Downloading tenacity-8.1.0-py3-none-any.whl (23 kB)\n",
            "Requirement already satisfied: urllib3<1.27,>=1.21.1 in c:\\users\\menee\\appdata\\local\\packages\\pythonsoftwarefoundation.python.3.10_qbz5n2kfra8p0\\localcache\\local-packages\\python310\\site-packages (from requests>=2.19.0->interpret-core[dash,debug,decisiontree,ebm,lime,linear,notebook,plotly,required,sensitivity,shap,skoperules,treeinterpreter]>=0.2.7->interpret) (1.26.12)\n",
            "Requirement already satisfied: idna<3,>=2.5 in c:\\users\\menee\\appdata\\local\\packages\\pythonsoftwarefoundation.python.3.10_qbz5n2kfra8p0\\localcache\\local-packages\\python310\\site-packages (from requests>=2.19.0->interpret-core[dash,debug,decisiontree,ebm,lime,linear,notebook,plotly,required,sensitivity,shap,skoperules,treeinterpreter]>=0.2.7->interpret) (2.10)\n",
            "Requirement already satisfied: certifi>=2017.4.17 in c:\\users\\menee\\appdata\\local\\packages\\pythonsoftwarefoundation.python.3.10_qbz5n2kfra8p0\\localcache\\local-packages\\python310\\site-packages (from requests>=2.19.0->interpret-core[dash,debug,decisiontree,ebm,lime,linear,notebook,plotly,required,sensitivity,shap,skoperules,treeinterpreter]>=0.2.7->interpret) (2022.9.24)\n",
            "Requirement already satisfied: chardet<5,>=3.0.2 in c:\\users\\menee\\appdata\\local\\packages\\pythonsoftwarefoundation.python.3.10_qbz5n2kfra8p0\\localcache\\local-packages\\python310\\site-packages (from requests>=2.19.0->interpret-core[dash,debug,decisiontree,ebm,lime,linear,notebook,plotly,required,sensitivity,shap,skoperules,treeinterpreter]>=0.2.7->interpret) (4.0.0)\n",
            "Collecting multiprocess\n",
            "  Downloading multiprocess-0.70.14-py310-none-any.whl (134 kB)\n",
            "     -------------------------------------- 134.3/134.3 kB 7.8 MB/s eta 0:00:00\n",
            "Requirement already satisfied: numba in c:\\users\\menee\\appdata\\local\\packages\\pythonsoftwarefoundation.python.3.10_qbz5n2kfra8p0\\localcache\\local-packages\\python310\\site-packages (from shap>=0.28.5->interpret-core[dash,debug,decisiontree,ebm,lime,linear,notebook,plotly,required,sensitivity,shap,skoperules,treeinterpreter]>=0.2.7->interpret) (0.56.3)\n",
            "Collecting slicer==0.0.7\n",
            "  Downloading slicer-0.0.7-py3-none-any.whl (14 kB)\n",
            "Collecting cloudpickle\n",
            "  Downloading cloudpickle-2.2.0-py3-none-any.whl (25 kB)\n",
            "Requirement already satisfied: pycparser in c:\\users\\menee\\appdata\\local\\packages\\pythonsoftwarefoundation.python.3.10_qbz5n2kfra8p0\\localcache\\local-packages\\python310\\site-packages (from cffi>=1.12.2->gevent>=1.3.6->interpret-core[dash,debug,decisiontree,ebm,lime,linear,notebook,plotly,required,sensitivity,shap,skoperules,treeinterpreter]>=0.2.7->interpret) (2.21)\n",
            "Requirement already satisfied: Jinja2>=3.0 in c:\\users\\menee\\appdata\\local\\packages\\pythonsoftwarefoundation.python.3.10_qbz5n2kfra8p0\\localcache\\local-packages\\python310\\site-packages (from Flask>=1.0.4->dash>=1.0.0->interpret-core[dash,debug,decisiontree,ebm,lime,linear,notebook,plotly,required,sensitivity,shap,skoperules,treeinterpreter]>=0.2.7->interpret) (3.1.2)\n",
            "Requirement already satisfied: click>=8.0 in c:\\users\\menee\\appdata\\local\\packages\\pythonsoftwarefoundation.python.3.10_qbz5n2kfra8p0\\localcache\\local-packages\\python310\\site-packages (from Flask>=1.0.4->dash>=1.0.0->interpret-core[dash,debug,decisiontree,ebm,lime,linear,notebook,plotly,required,sensitivity,shap,skoperules,treeinterpreter]>=0.2.7->interpret) (8.1.3)\n",
            "Requirement already satisfied: Werkzeug>=2.0 in c:\\users\\menee\\appdata\\local\\packages\\pythonsoftwarefoundation.python.3.10_qbz5n2kfra8p0\\localcache\\local-packages\\python310\\site-packages (from Flask>=1.0.4->dash>=1.0.0->interpret-core[dash,debug,decisiontree,ebm,lime,linear,notebook,plotly,required,sensitivity,shap,skoperules,treeinterpreter]>=0.2.7->interpret) (2.2.2)\n",
            "Requirement already satisfied: itsdangerous>=2.0 in c:\\users\\menee\\appdata\\local\\packages\\pythonsoftwarefoundation.python.3.10_qbz5n2kfra8p0\\localcache\\local-packages\\python310\\site-packages (from Flask>=1.0.4->dash>=1.0.0->interpret-core[dash,debug,decisiontree,ebm,lime,linear,notebook,plotly,required,sensitivity,shap,skoperules,treeinterpreter]>=0.2.7->interpret) (2.1.2)\n",
            "Requirement already satisfied: parso<0.9.0,>=0.8.0 in c:\\users\\menee\\appdata\\local\\packages\\pythonsoftwarefoundation.python.3.10_qbz5n2kfra8p0\\localcache\\local-packages\\python310\\site-packages (from jedi>=0.16->ipython>=7.4.0->interpret-core[dash,debug,decisiontree,ebm,lime,linear,notebook,plotly,required,sensitivity,shap,skoperules,treeinterpreter]>=0.2.7->interpret) (0.8.3)\n",
            "Requirement already satisfied: jupyter-core>=4.9.2 in c:\\users\\menee\\appdata\\local\\packages\\pythonsoftwarefoundation.python.3.10_qbz5n2kfra8p0\\localcache\\local-packages\\python310\\site-packages (from jupyter-client>=6.1.12->ipykernel>=5.1.0->interpret-core[dash,debug,decisiontree,ebm,lime,linear,notebook,plotly,required,sensitivity,shap,skoperules,treeinterpreter]>=0.2.7->interpret) (4.11.1)\n",
            "Requirement already satisfied: entrypoints in c:\\users\\menee\\appdata\\local\\packages\\pythonsoftwarefoundation.python.3.10_qbz5n2kfra8p0\\localcache\\local-packages\\python310\\site-packages (from jupyter-client>=6.1.12->ipykernel>=5.1.0->interpret-core[dash,debug,decisiontree,ebm,lime,linear,notebook,plotly,required,sensitivity,shap,skoperules,treeinterpreter]>=0.2.7->interpret) (0.4)\n",
            "Requirement already satisfied: wcwidth in c:\\users\\menee\\appdata\\local\\packages\\pythonsoftwarefoundation.python.3.10_qbz5n2kfra8p0\\localcache\\local-packages\\python310\\site-packages (from prompt-toolkit<3.1.0,>3.0.1->ipython>=7.4.0->interpret-core[dash,debug,decisiontree,ebm,lime,linear,notebook,plotly,required,sensitivity,shap,skoperules,treeinterpreter]>=0.2.7->interpret) (0.2.5)\n",
            "Requirement already satisfied: PyWavelets>=1.1.1 in c:\\users\\menee\\appdata\\local\\packages\\pythonsoftwarefoundation.python.3.10_qbz5n2kfra8p0\\localcache\\local-packages\\python310\\site-packages (from scikit-image>=0.12->lime>=0.1.1.33->interpret-core[dash,debug,decisiontree,ebm,lime,linear,notebook,plotly,required,sensitivity,shap,skoperules,treeinterpreter]>=0.2.7->interpret) (1.4.1)\n",
            "Requirement already satisfied: imageio>=2.4.1 in c:\\users\\menee\\appdata\\local\\packages\\pythonsoftwarefoundation.python.3.10_qbz5n2kfra8p0\\localcache\\local-packages\\python310\\site-packages (from scikit-image>=0.12->lime>=0.1.1.33->interpret-core[dash,debug,decisiontree,ebm,lime,linear,notebook,plotly,required,sensitivity,shap,skoperules,treeinterpreter]>=0.2.7->interpret) (2.22.2)\n",
            "Requirement already satisfied: tifffile>=2019.7.26 in c:\\users\\menee\\appdata\\local\\packages\\pythonsoftwarefoundation.python.3.10_qbz5n2kfra8p0\\localcache\\local-packages\\python310\\site-packages (from scikit-image>=0.12->lime>=0.1.1.33->interpret-core[dash,debug,decisiontree,ebm,lime,linear,notebook,plotly,required,sensitivity,shap,skoperules,treeinterpreter]>=0.2.7->interpret) (2022.10.10)\n",
            "Requirement already satisfied: networkx>=2.2 in c:\\users\\menee\\appdata\\local\\packages\\pythonsoftwarefoundation.python.3.10_qbz5n2kfra8p0\\localcache\\local-packages\\python310\\site-packages (from scikit-image>=0.12->lime>=0.1.1.33->interpret-core[dash,debug,decisiontree,ebm,lime,linear,notebook,plotly,required,sensitivity,shap,skoperules,treeinterpreter]>=0.2.7->interpret) (2.8.7)\n",
            "Collecting brotli\n",
            "  Downloading Brotli-1.0.9-cp310-cp310-win_amd64.whl (383 kB)\n",
            "     ------------------------------------- 383.3/383.3 kB 11.7 MB/s eta 0:00:00\n",
            "Requirement already satisfied: llvmlite<0.40,>=0.39.0dev0 in c:\\users\\menee\\appdata\\local\\packages\\pythonsoftwarefoundation.python.3.10_qbz5n2kfra8p0\\localcache\\local-packages\\python310\\site-packages (from numba->shap>=0.28.5->interpret-core[dash,debug,decisiontree,ebm,lime,linear,notebook,plotly,required,sensitivity,shap,skoperules,treeinterpreter]>=0.2.7->interpret) (0.39.1)\n",
            "Requirement already satisfied: executing in c:\\users\\menee\\appdata\\local\\packages\\pythonsoftwarefoundation.python.3.10_qbz5n2kfra8p0\\localcache\\local-packages\\python310\\site-packages (from stack-data->ipython>=7.4.0->interpret-core[dash,debug,decisiontree,ebm,lime,linear,notebook,plotly,required,sensitivity,shap,skoperules,treeinterpreter]>=0.2.7->interpret) (1.1.0)\n",
            "Requirement already satisfied: pure-eval in c:\\users\\menee\\appdata\\local\\packages\\pythonsoftwarefoundation.python.3.10_qbz5n2kfra8p0\\localcache\\local-packages\\python310\\site-packages (from stack-data->ipython>=7.4.0->interpret-core[dash,debug,decisiontree,ebm,lime,linear,notebook,plotly,required,sensitivity,shap,skoperules,treeinterpreter]>=0.2.7->interpret) (0.2.2)\n",
            "Requirement already satisfied: asttokens in c:\\users\\menee\\appdata\\local\\packages\\pythonsoftwarefoundation.python.3.10_qbz5n2kfra8p0\\localcache\\local-packages\\python310\\site-packages (from stack-data->ipython>=7.4.0->interpret-core[dash,debug,decisiontree,ebm,lime,linear,notebook,plotly,required,sensitivity,shap,skoperules,treeinterpreter]>=0.2.7->interpret) (2.0.8)\n",
            "Requirement already satisfied: MarkupSafe>=2.0 in c:\\users\\menee\\appdata\\local\\packages\\pythonsoftwarefoundation.python.3.10_qbz5n2kfra8p0\\localcache\\local-packages\\python310\\site-packages (from Jinja2>=3.0->Flask>=1.0.4->dash>=1.0.0->interpret-core[dash,debug,decisiontree,ebm,lime,linear,notebook,plotly,required,sensitivity,shap,skoperules,treeinterpreter]>=0.2.7->interpret) (2.1.1)\n",
            "Requirement already satisfied: pywin32>=1.0 in c:\\users\\menee\\appdata\\local\\packages\\pythonsoftwarefoundation.python.3.10_qbz5n2kfra8p0\\localcache\\local-packages\\python310\\site-packages (from jupyter-core>=4.9.2->jupyter-client>=6.1.12->ipykernel>=5.1.0->interpret-core[dash,debug,decisiontree,ebm,lime,linear,notebook,plotly,required,sensitivity,shap,skoperules,treeinterpreter]>=0.2.7->interpret) (304)\n",
            "Building wheels for collected packages: lime\n",
            "  Building wheel for lime (setup.py): started\n",
            "  Building wheel for lime (setup.py): finished with status 'done'\n",
            "  Created wheel for lime: filename=lime-0.2.0.1-py3-none-any.whl size=283839 sha256=fb3caf4aaab7976b2570297613c4a520852ba444a2e0428dca4b2d5900d02b20\n",
            "  Stored in directory: c:\\users\\menee\\appdata\\local\\pip\\cache\\wheels\\ac\\fc\\ba\\bc2e218408e730b7ad32dc45fbaa1ae6f0ab314e581101bdff\n",
            "Successfully built lime\n",
            "Installing collected packages: treeinterpreter, interpret-core, dash-table, dash-html-components, dash-core-components, brotli, zope.interface, zope.event, tenacity, slicer, patsy, et-xmlfile, dill, cloudpickle, plotly, openpyxl, multiprocess, gevent, statsmodels, skope-rules, shap, SALib, lime, flask-compress, dash, dash-cytoscape, interpret\n",
            "Successfully installed SALib-1.4.6.1 brotli-1.0.9 cloudpickle-2.2.0 dash-2.6.2 dash-core-components-2.0.0 dash-cytoscape-0.3.0 dash-html-components-2.0.0 dash-table-5.0.0 dill-0.3.6 et-xmlfile-1.1.0 flask-compress-1.13 gevent-22.10.1 interpret-0.2.7 interpret-core-0.2.7 lime-0.2.0.1 multiprocess-0.70.14 openpyxl-3.0.10 patsy-0.5.3 plotly-5.11.0 shap-0.41.0 skope-rules-1.0.1 slicer-0.0.7 statsmodels-0.13.2 tenacity-8.1.0 treeinterpreter-0.2.3 zope.event-4.5.0 zope.interface-5.5.0\n",
            "Requirement already satisfied: scikit-learn in c:\\users\\menee\\appdata\\local\\packages\\pythonsoftwarefoundation.python.3.10_qbz5n2kfra8p0\\localcache\\local-packages\\python310\\site-packages (1.1.1)\n",
            "Collecting scikit-learn\n",
            "  Downloading scikit_learn-1.1.3-cp310-cp310-win_amd64.whl (7.5 MB)\n",
            "     ---------------------------------------- 7.5/7.5 MB 23.0 MB/s eta 0:00:00\n",
            "Requirement already satisfied: joblib>=1.0.0 in c:\\users\\menee\\appdata\\local\\packages\\pythonsoftwarefoundation.python.3.10_qbz5n2kfra8p0\\localcache\\local-packages\\python310\\site-packages (from scikit-learn) (1.1.0)\n",
            "Requirement already satisfied: scipy>=1.3.2 in c:\\users\\menee\\appdata\\local\\packages\\pythonsoftwarefoundation.python.3.10_qbz5n2kfra8p0\\localcache\\local-packages\\python310\\site-packages (from scikit-learn) (1.8.1)\n",
            "Requirement already satisfied: numpy>=1.17.3 in c:\\users\\menee\\appdata\\local\\packages\\pythonsoftwarefoundation.python.3.10_qbz5n2kfra8p0\\localcache\\local-packages\\python310\\site-packages (from scikit-learn) (1.23.4)\n",
            "Requirement already satisfied: threadpoolctl>=2.0.0 in c:\\users\\menee\\appdata\\local\\packages\\pythonsoftwarefoundation.python.3.10_qbz5n2kfra8p0\\localcache\\local-packages\\python310\\site-packages (from scikit-learn) (3.1.0)\n",
            "Installing collected packages: scikit-learn\n",
            "  Attempting uninstall: scikit-learn\n",
            "    Found existing installation: scikit-learn 1.1.1\n",
            "    Uninstalling scikit-learn-1.1.1:\n",
            "      Successfully uninstalled scikit-learn-1.1.1\n",
            "Successfully installed scikit-learn-1.1.3\n"
          ]
        }
      ],
      "source": [
        "# Installing packages\n",
        "!conda install python-graphviz\n",
        "!pip install matplotlib pandas statsmodels interpret sklearn openpyxl\n",
        "# Needed for PDP\n",
        "!pip install scikit-learn --upgrade\n"
      ]
    },
    {
      "cell_type": "markdown",
      "metadata": {
        "id": "HeSC0_WEpY0k"
      },
      "source": [
        "## Downloading the data\n",
        "We are going to use the combined cycle power plant dataset. This dataset contains 9568 data points collected from a Combined Cycle Power Plant over 6 years (2006-2011), when the power plant was set to work with full load. We have the following features: hourly average ambient variables Temperature (T), Ambient Pressure (AP), Relative Humidity (RH) and Exhaust Vacuum (V). We will train ML models to predict the net hourly electrical energy output (EP) of the plant.\n",
        "\n",
        "For a detailed description, see: [[Description](https://archive.ics.uci.edu/ml/datasets/combined+cycle+power+plant)]\n",
        "\n",
        "We first need to download and prepare data. \n"
      ]
    },
    {
      "cell_type": "code",
      "execution_count": null,
      "metadata": {
        "id": "fleSmPrE7UMT"
      },
      "outputs": [],
      "source": [
        "# Download and unzip data\n",
        "!wget -c https://archive.ics.uci.edu/ml/machine-learning-databases/00294/CCPP.zip\n",
        "!unzip CCPP.zip"
      ]
    },
    {
      "cell_type": "markdown",
      "metadata": {
        "id": "PQpW5C3Sg9YA"
      },
      "source": [
        "## Loading and preprocessing the data\n",
        "We split the data into training (first 5000 instances) and validation (the subsequent 2000) and test (the last 2568) sets. We will use the training set to train a model, and validation set to optimize the model hyper-parameters. \n"
      ]
    },
    {
      "cell_type": "code",
      "execution_count": 2,
      "metadata": {
        "id": "JycjPmn_7p41"
      },
      "outputs": [],
      "source": [
        "# Load and prepare data\n",
        "import numpy as np\n",
        "import pandas as pd\n",
        "from sklearn.preprocessing import StandardScaler\n",
        "\n",
        "# global variables\n",
        "DATA_FILENAME = 'CCPP/Folds5x2_pp.xlsx'\n",
        "FEATURE_NAMES = ['AT', 'V', 'AP', 'RH']\n",
        "LABEL_NAME = 'PE'\n",
        "# Load the data from the excel file\n",
        "def load_data():\n",
        "    def split_feature_label(data_set):\n",
        "        features = data_set[FEATURE_NAMES]\n",
        "        labels = data_set[LABEL_NAME]\n",
        "        return features, labels\n",
        "\n",
        "    data = pd.read_excel(DATA_FILENAME)\n",
        "    train_set, dev_set, test_set = data[:5000], data[5000: 7000], data[7000:]\n",
        "\n",
        "    train_features, train_labels = split_feature_label(train_set)\n",
        "    dev_features, dev_labels = split_feature_label(dev_set)\n",
        "    test_features, test_labels = split_feature_label(test_set)\n",
        "\n",
        "    return train_features, train_labels, dev_features, \\\n",
        "        dev_labels, test_features, test_labels\n",
        "\n",
        "\n",
        "# preprocess (by z-normalization) the data for the regression task\n",
        "# return the normalized feature sets and corresponding target variables \n",
        "def prepare_load_regression_data():\n",
        "    train_features, train_labels, dev_features, \\\n",
        "        dev_labels, test_features, test_labels = load_data()\n",
        "\n",
        "    scaler = StandardScaler()\n",
        "    scaler = scaler.fit(train_features)\n",
        "    train_features = pd.DataFrame(data=scaler.transform(train_features), columns=FEATURE_NAMES)\n",
        "    dev_features = pd.DataFrame(data=scaler.transform(dev_features), columns=FEATURE_NAMES)\n",
        "    test_features = pd.DataFrame(data=scaler.transform(test_features), columns=FEATURE_NAMES)\n",
        "\n",
        "    return train_features, train_labels, dev_features, \\\n",
        "        dev_labels, test_features, test_labels\n",
        "\n"
      ]
    },
    {
      "cell_type": "markdown",
      "metadata": {
        "id": "QabF2JOdMTI4"
      },
      "source": [
        "## Training and Interpreting a Linear Regression Model\n",
        "\n",
        "**Q1**. (10)% Train a linear regression model (we recommend the statsmodels package) and report $R^2$ (goodness of fit) statistic. \n",
        "\n",
        "For model interpretability, provide for each feature (+ the bias variable) the following in tabular format: \n",
        "* Weight estimates\n",
        "* SE (standard error of estimates) \n",
        "* T statistics \n",
        "\n",
        "\n",
        "Further Questions regarding the linear model (answers to be included in the notebook): \n",
        "\n",
        "**Q2**. (10%) Which three features are the most important?\n",
        "\n",
        "**Q3**. (10%) How does the gas turbine energy yield (EP) change with unit (one degree C) increase of the ambient temperature given that all other feature values remain the same? (Note: Here you should consider whether you use the original or z-normalized features to train your linear model.)\n",
        "\n",
        "**Q4**. (10%) Show bar graph illustrations of the feature effects for the first two validation set instances."
      ]
    },
    {
      "cell_type": "code",
      "execution_count": 9,
      "metadata": {
        "id": "B91BszFhMStw"
      },
      "outputs": [
        {
          "name": "stdout",
          "output_type": "stream",
          "text": [
            "                            OLS Regression Results                            \n",
            "==============================================================================\n",
            "Dep. Variable:                     PE   R-squared:                       0.929\n",
            "Model:                            OLS   Adj. R-squared:                  0.929\n",
            "Method:                 Least Squares   F-statistic:                 1.644e+04\n",
            "Date:                Mon, 31 Oct 2022   Prob (F-statistic):               0.00\n",
            "Time:                        14:23:57   Log-Likelihood:                -14635.\n",
            "No. Observations:                5000   AIC:                         2.928e+04\n",
            "Df Residuals:                    4995   BIC:                         2.931e+04\n",
            "Df Model:                           4                                         \n",
            "Covariance Type:            nonrobust                                         \n",
            "==============================================================================\n",
            "                 coef    std err          t      P>|t|      [0.025      0.975]\n",
            "------------------------------------------------------------------------------\n",
            "const        452.6467     13.455     33.641      0.000     426.269     479.024\n",
            "AT            -1.9999      0.021    -95.152      0.000      -2.041      -1.959\n",
            "V             -0.2250      0.010    -22.543      0.000      -0.245      -0.205\n",
            "AP             0.0646      0.013      4.948      0.000       0.039       0.090\n",
            "RH            -0.1671      0.006    -29.185      0.000      -0.178      -0.156\n",
            "==============================================================================\n",
            "Omnibus:                      498.725   Durbin-Watson:                   2.030\n",
            "Prob(Omnibus):                  0.000   Jarque-Bera (JB):             2485.693\n",
            "Skew:                          -0.355   Prob(JB):                         0.00\n",
            "Kurtosis:                       6.380   Cond. No.                     2.14e+05\n",
            "==============================================================================\n",
            "\n",
            "Notes:\n",
            "[1] Standard Errors assume that the covariance matrix of the errors is correctly specified.\n",
            "[2] The condition number is large, 2.14e+05. This might indicate that there are\n",
            "strong multicollinearity or other numerical problems.\n",
            "0.9294006278833447\n",
            "const    452.646673\n",
            "AT        -1.999857\n",
            "V         -0.225041\n",
            "AP         0.064599\n",
            "RH        -0.167095\n",
            "dtype: float64\n",
            "const    33.641497\n",
            "AT      -95.152274\n",
            "V       -22.543124\n",
            "AP        4.948008\n",
            "RH      -29.185187\n",
            "dtype: float64\n",
            "const    13.455010\n",
            "AT        0.021017\n",
            "V         0.009983\n",
            "AP        0.013056\n",
            "RH        0.005725\n",
            "dtype: float64\n"
          ]
        }
      ],
      "source": [
        "# We recommend the statsmodels package\n",
        "import statsmodels.api as sm\n",
        "# Hint, by default this sm does not include the bias/offset term w_0\n",
        "# thus, you should add it yourself using sm.add_constant()\n",
        "\n",
        "# Linear regression\n",
        "train_features, train_labels, dev_features, dev_labels, test_features, test_labels = load_data()\n",
        "\n",
        "train_features = sm.add_constant(train_features)\n",
        "mod = sm.OLS(train_labels, train_features)\n",
        "results = mod.fit()\n",
        "print(results.summary())\n",
        "print(results.rsquared)\n",
        "print(results.params) # even checken of dit de juiste is\n",
        "print(results.tvalues)\n",
        "print(results.bse)\n"
      ]
    },
    {
      "cell_type": "markdown",
      "metadata": {},
      "source": [
        "Answer Q2, Q3, Q4 here"
      ]
    },
    {
      "cell_type": "markdown",
      "metadata": {
        "id": "5tj6Pri4HBeO"
      },
      "source": [
        "Reflection: why would training a regression tree not work well for this dataset in terms of model interpretability? (answer in the notebook)\n",
        "\n",
        "Because the features are not binary and vary a lot. They also may be dependent on each other."
      ]
    },
    {
      "cell_type": "markdown",
      "metadata": {
        "id": "k7r09mMfeo2k"
      },
      "source": [
        "## Training and Interpreting an Explainable Boosting Model (Generalized Additive Model)\n",
        "**Q6**. (20%) Train a Explainable Boosting Machine (with [interpret.ml](https://github.com/interpretml/interpret/))\n",
        "\n",
        "(Note on grading: Training EBM 10%, global and local explanation visualizations - see below -  5% each)\n",
        "\n",
        "For a tutorial see: [[Tutorial](https://nbviewer.org/github/interpretml/interpret/blob/master/examples/python/notebooks/Interpretable%20Regression%20Methods.ipynb)]\n",
        "\n",
        "\n",
        "* (5%) Visualize/provide global (model-wise) feature importances for EBM as a table or figure. What are the most important two features in EBM? Are they the same as in the linear model? \n",
        "* (5%) Visualize local (instance-wise) feature importances for a development set instance of your choice.\n"
      ]
    },
    {
      "cell_type": "code",
      "execution_count": 8,
      "metadata": {
        "id": "u-ZmqpxweoZv"
      },
      "outputs": [
        {
          "data": {
            "text/html": [
              "<!-- http://127.0.0.1:7001/2115255808784/ -->\n",
              "<iframe src=\"http://127.0.0.1:7001/2115255808784/\" width=100% height=800 frameBorder=\"0\"></iframe>"
            ]
          },
          "metadata": {},
          "output_type": "display_data"
        },
        {
          "ename": "IndexError",
          "evalue": "index 4 is out of bounds for axis 0 with size 4",
          "output_type": "error",
          "traceback": [
            "\u001b[1;31m---------------------------------------------------------------------------\u001b[0m",
            "\u001b[1;31mIndexError\u001b[0m                                Traceback (most recent call last)",
            "Cell \u001b[1;32mIn [8], line 10\u001b[0m\n\u001b[0;32m      7\u001b[0m ebm_glob \u001b[39m=\u001b[39m ebm\u001b[39m.\u001b[39mexplain_global(name\u001b[39m=\u001b[39m\u001b[39m'\u001b[39m\u001b[39mEBM\u001b[39m\u001b[39m'\u001b[39m)\n\u001b[0;32m      8\u001b[0m show(ebm_glob)\n\u001b[1;32m---> 10\u001b[0m ebm_local \u001b[39m=\u001b[39m ebm\u001b[39m.\u001b[39;49mexplain_local(test_features, test_labels, name\u001b[39m=\u001b[39;49m\u001b[39m'\u001b[39;49m\u001b[39mEBM\u001b[39;49m\u001b[39m'\u001b[39;49m)\n\u001b[0;32m     11\u001b[0m show(ebm_local)\n",
            "File \u001b[1;32mc:\\Users\\Menee\\AppData\\Local\\Programs\\Python\\Python310\\lib\\site-packages\\interpret\\glassbox\\ebm\\ebm.py:1469\u001b[0m, in \u001b[0;36mBaseEBM.explain_local\u001b[1;34m(self, X, y, name)\u001b[0m\n\u001b[0;32m   1464\u001b[0m         data_dict[\u001b[39m\"\u001b[39m\u001b[39mmeta\u001b[39m\u001b[39m\"\u001b[39m] \u001b[39m=\u001b[39m {\n\u001b[0;32m   1465\u001b[0m             \u001b[39m\"\u001b[39m\u001b[39mlabel_names\u001b[39m\u001b[39m\"\u001b[39m: \u001b[39mself\u001b[39m\u001b[39m.\u001b[39mclasses_\u001b[39m.\u001b[39mtolist()  \u001b[39m# Classes should be numpy array, convert to list.\u001b[39;00m\n\u001b[0;32m   1466\u001b[0m         }\n\u001b[0;32m   1467\u001b[0m     data_dicts\u001b[39m.\u001b[39mappend(data_dict)\n\u001b[1;32m-> 1469\u001b[0m \u001b[39mfor\u001b[39;00m set_idx, feature_group, scores \u001b[39min\u001b[39;00m scores_gen:\n\u001b[0;32m   1470\u001b[0m     \u001b[39mfor\u001b[39;00m row_idx \u001b[39min\u001b[39;00m \u001b[39mrange\u001b[39m(n_rows):\n\u001b[0;32m   1471\u001b[0m         feature_name \u001b[39m=\u001b[39m \u001b[39mself\u001b[39m\u001b[39m.\u001b[39mfeature_names[set_idx]\n",
            "File \u001b[1;32mc:\\Users\\Menee\\AppData\\Local\\Programs\\Python\\Python310\\lib\\site-packages\\interpret\\glassbox\\ebm\\utils.py:359\u001b[0m, in \u001b[0;36mEBMUtils.scores_by_feature_group\u001b[1;34m(X, X_pair, feature_groups, model)\u001b[0m\n\u001b[0;32m    356\u001b[0m feature_idxs \u001b[39m=\u001b[39m feature_group\n\u001b[0;32m    358\u001b[0m \u001b[39mif\u001b[39;00m X_pair \u001b[39mis\u001b[39;00m \u001b[39mnot\u001b[39;00m \u001b[39mNone\u001b[39;00m:\n\u001b[1;32m--> 359\u001b[0m     sliced_X \u001b[39m=\u001b[39m X[feature_idxs, :] \u001b[39mif\u001b[39;00m \u001b[39mlen\u001b[39m(feature_group) \u001b[39m==\u001b[39m \u001b[39m1\u001b[39m \u001b[39melse\u001b[39;00m X_pair[feature_idxs, :]\n\u001b[0;32m    360\u001b[0m \u001b[39melse\u001b[39;00m:\n\u001b[0;32m    361\u001b[0m     sliced_X \u001b[39m=\u001b[39m X[feature_idxs, :]\n",
            "\u001b[1;31mIndexError\u001b[0m: index 4 is out of bounds for axis 0 with size 4"
          ]
        }
      ],
      "source": [
        "from interpret.glassbox import ExplainableBoostingRegressor\n",
        "from interpret import show\n",
        "\n",
        "\n",
        "ebm = ExplainableBoostingRegressor()\n",
        "ebm.fit(train_features, train_labels)\n",
        "ebm_glob = ebm.explain_global(name='EBM')\n",
        "show(ebm_glob)\n",
        "\n",
        "# deze werkt alleen met train_features, train_labels, maar we moeten met 'a dev set instance of your choice' werken, maar die gooit error\n",
        "ebm_local = ebm.explain_local(dev_features, dev_labels, name='EBM')\n",
        "show(ebm_local)\n",
        "\n",
        "# EBM"
      ]
    },
    {
      "cell_type": "markdown",
      "metadata": {
        "id": "_k7dAwTIfbsc"
      },
      "source": [
        "## Training and Explaining Neural Networks\n",
        "**Q7**. (20%) Train a Neural Network (using the training and validation sets): One-layer MLP (ReLU activation function + 50 hidden neurons) \n",
        "\n",
        "We recommend to use the Adam optimizer. Fine-tune the learning rate and any other hyper-parameters you find necessary. \n",
        "\n",
        "For a tutorial see: [[Tutorial](https://scikit-learn.org/stable/modules/neural_networks_supervised.html)]\n",
        "\n",
        "Your code should report the results following the instructions below:\n",
        "\n",
        "Note on grading: training NN: 8%, answering below sub-questions 4% each.\n",
        "\n",
        "* (4%) Apply the trained neural network model on the test set and report Root Mean Square Error (RMSE) performance measure.\n",
        "\n",
        "* Analyzing factors influencing the neural network predictions. \n",
        "See the [Documentation](https://scikit-learn.org/stable/modules/partial_dependence.html) to use Partial Dependence Plot (PDP) and Independent Conditional Expectation (ICE) implementations in python.\n",
        "Use the trained one-layer MLP model to\n",
        "  * (4%) Generate and report a bivariate PDP using 'AT' (Ambient Temperature) and 'V' (Exhaust Vacuum) features (Note: not two univariate PDPs but one bivariate PDP).\n",
        "  * (4%) Generate  ICE plots for each feature."
      ]
    },
    {
      "cell_type": "code",
      "execution_count": null,
      "metadata": {
        "id": "qQjg_qtCf_WD"
      },
      "outputs": [],
      "source": [
        "from sklearn.neural_network import MLPRegressor\n",
        "\n",
        "# One-layer MLP use  learning_rate_init=0.001 to get a reasonable model, optimize other parameters by experimentation\n",
        "# an RMSE around 4.2 is reasonable\n"
      ]
    },
    {
      "cell_type": "markdown",
      "metadata": {
        "id": "vpGv6J6XlBQ4"
      },
      "source": [
        "### Generating Model-Agnostic Explanations for NN predictions\n",
        "You can check the tutorials for LIME explanations for neural networks \n",
        "[[LIME Tutorial](https://nbviewer.org/github/interpretml/interpret/blob/master/examples/python/notebooks/Explaining%20Blackbox%20Regressors.ipynb)]\n",
        "\n",
        "\n",
        "**Q8**. (10%) Provide explanations for two randomly selected test set instances using LIME for the trained NN model. "
      ]
    },
    {
      "cell_type": "code",
      "execution_count": null,
      "metadata": {
        "id": "dIo-o_lClJYQ"
      },
      "outputs": [],
      "source": [
        "# Global explanations\n",
        "import graphviz\n",
        "from interpret import show\n",
        "\n",
        "# Local explanations (LIME)\n",
        "from interpret.blackbox import LimeTabular\n"
      ]
    }
  ],
  "metadata": {
    "colab": {
      "collapsed_sections": [],
      "provenance": [],
      "toc_visible": true
    },
    "kernelspec": {
      "display_name": "Python 3.10.4 64-bit",
      "language": "python",
      "name": "python3"
    },
    "language_info": {
      "codemirror_mode": {
        "name": "ipython",
        "version": 3
      },
      "file_extension": ".py",
      "mimetype": "text/x-python",
      "name": "python",
      "nbconvert_exporter": "python",
      "pygments_lexer": "ipython3",
      "version": "3.10.4"
    },
    "vscode": {
      "interpreter": {
        "hash": "b8fc55d22b506f310823b6bc9ecb5d19dc173fb1373e7bf8bb90a2220d0a6ca2"
      }
    }
  },
  "nbformat": 4,
  "nbformat_minor": 0
}
